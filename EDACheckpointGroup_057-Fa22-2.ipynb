{
 "cells": [
  {
   "cell_type": "markdown",
   "metadata": {},
   "source": [
    "# COGS 108 - EDA Checkpoint"
   ]
  },
  {
   "cell_type": "markdown",
   "metadata": {},
   "source": [
    "# Names\n",
    "\n",
    "- Sebastian Algharaballi (A16314698)\n",
    "- Kenneth Hogan (A16404864)\n",
    "- Evan Liu (A16675674)\n",
    "- Lauren Lui (A16657998)\n",
    "- Aarohi Zade (A16222196)"
   ]
  },
  {
   "cell_type": "markdown",
   "metadata": {},
   "source": [
    "<a id='research_question'></a>\n",
    "# Research Question"
   ]
  },
  {
   "cell_type": "markdown",
   "metadata": {},
   "source": [
    "“Is there a correlation between the liveliness (as measured by BPM, valence, and energy) of the top 50 Spotify songs in the United States per month from 2012-2022 and economic prosperity of the US population (as measured by country-wide consumer confidence)?”"
   ]
  },
  {
   "cell_type": "markdown",
   "metadata": {},
   "source": [
    "# Setup"
   ]
  },
  {
   "cell_type": "code",
   "execution_count": 1,
   "metadata": {},
   "outputs": [
    {
     "name": "stdout",
     "output_type": "stream",
     "text": [
      "Defaulting to user installation because normal site-packages is not writeable\r\n",
      "Requirement already satisfied: openpyxl in /home/ealiu/.local/lib/python3.9/site-packages (3.0.10)\r\n",
      "Requirement already satisfied: et-xmlfile in /home/ealiu/.local/lib/python3.9/site-packages (from openpyxl) (1.1.0)\r\n"
     ]
    }
   ],
   "source": [
    "# import pandas library\n",
    "import pandas as pd\n",
    "\n",
    "!pip install openpyxl\n",
    "import openpyxl\n",
    "\n",
    "import numpy as np\n",
    "\n",
    "# import seaborn\n",
    "import seaborn as sns\n",
    "\n",
    "# import matplotlib\n",
    "import matplotlib.pyplot as plt # Typical way of import MPL\n",
    "import matplotlib as mpl # This line is used less frequently"
   ]
  },
  {
   "cell_type": "markdown",
   "metadata": {},
   "source": [
    "# Data Cleaning"
   ]
  },
  {
   "cell_type": "markdown",
   "metadata": {},
   "source": [
    "__Steps Implemented Below:__\n",
    "\n",
    "- Load a CSV file of data pertaining to the top songs from 2010-2018\n",
    "- Drop 2012 and 2019 data with insufficient number of songs\n",
    "- Filter the data to contain needed columns (Artist/Track Name, Year, BPM, Valence, and Energy)\n",
    "- Rename columns\n"
   ]
  },
  {
   "cell_type": "code",
   "execution_count": 2,
   "metadata": {},
   "outputs": [],
   "source": [
    "#Load a csv file of data\n",
    "temp = pd.read_csv('top10s.csv', encoding='latin-1')\n",
    "\n",
    "#Drop 2012 and 2019 data with insufficient number of songs\n",
    "temp = temp[temp.year != 2012]\n",
    "temp = temp[temp.year != 2019]\n",
    "\n",
    "top_50_by_year = None\n",
    "\n",
    "initiated = False\n",
    "\n",
    "for i in range(6):\n",
    "    current_year = temp[temp.year == (2013 + i)]\n",
    "    current_year = current_year.iloc[:-(current_year.shape[0] - 50)]\n",
    "    \n",
    "    if(not initiated):\n",
    "        top_50_by_year = current_year\n",
    "        initiated = True\n",
    "    else:\n",
    "        top_50_by_year = pd.concat([top_50_by_year, current_year])\n",
    "        \n",
    "top_50_by_year = top_50_by_year.reset_index()\n",
    "\n",
    "del top_50_by_year['index']\n",
    "del top_50_by_year['Unnamed: 0']"
   ]
  },
  {
   "cell_type": "markdown",
   "metadata": {},
   "source": [
    "__Steps Implemented Below:__\n",
    "\n",
    "> - Load CSV files of data pertaining to top songs in 2012, 2019, and 2020-2022\n",
    "> - Filter our data files to include needed columns (Artist/Track Name, Year, BPM, Valence, and Energy)\n",
    "> - Rename the titles of these respective columns in order to keep our data tidy"
   ]
  },
  {
   "cell_type": "code",
   "execution_count": 3,
   "metadata": {},
   "outputs": [
    {
     "data": {
      "text/html": [
       "<div>\n",
       "<style scoped>\n",
       "    .dataframe tbody tr th:only-of-type {\n",
       "        vertical-align: middle;\n",
       "    }\n",
       "\n",
       "    .dataframe tbody tr th {\n",
       "        vertical-align: top;\n",
       "    }\n",
       "\n",
       "    .dataframe thead th {\n",
       "        text-align: right;\n",
       "    }\n",
       "</style>\n",
       "<table border=\"1\" class=\"dataframe\">\n",
       "  <thead>\n",
       "    <tr style=\"text-align: right;\">\n",
       "      <th></th>\n",
       "      <th>Track Name</th>\n",
       "      <th>Artist</th>\n",
       "      <th>Year</th>\n",
       "      <th>BPM</th>\n",
       "      <th>Valence</th>\n",
       "      <th>Energy</th>\n",
       "    </tr>\n",
       "  </thead>\n",
       "  <tbody>\n",
       "    <tr>\n",
       "      <th>0</th>\n",
       "      <td>Underneath the Tree</td>\n",
       "      <td>Kelly Clarkson</td>\n",
       "      <td>2013</td>\n",
       "      <td>160</td>\n",
       "      <td>0.69</td>\n",
       "      <td>0.81</td>\n",
       "    </tr>\n",
       "    <tr>\n",
       "      <th>1</th>\n",
       "      <td>Wake Me Up</td>\n",
       "      <td>Avicii</td>\n",
       "      <td>2013</td>\n",
       "      <td>124</td>\n",
       "      <td>0.64</td>\n",
       "      <td>0.78</td>\n",
       "    </tr>\n",
       "    <tr>\n",
       "      <th>2</th>\n",
       "      <td>Story of My Life</td>\n",
       "      <td>One Direction</td>\n",
       "      <td>2013</td>\n",
       "      <td>121</td>\n",
       "      <td>0.29</td>\n",
       "      <td>0.66</td>\n",
       "    </tr>\n",
       "    <tr>\n",
       "      <th>3</th>\n",
       "      <td>Just Give Me a Reason (feat. Nate Ruess)</td>\n",
       "      <td>P!nk</td>\n",
       "      <td>2013</td>\n",
       "      <td>95</td>\n",
       "      <td>0.44</td>\n",
       "      <td>0.55</td>\n",
       "    </tr>\n",
       "    <tr>\n",
       "      <th>4</th>\n",
       "      <td>Hall of Fame</td>\n",
       "      <td>The Script</td>\n",
       "      <td>2013</td>\n",
       "      <td>85</td>\n",
       "      <td>0.63</td>\n",
       "      <td>0.87</td>\n",
       "    </tr>\n",
       "    <tr>\n",
       "      <th>...</th>\n",
       "      <td>...</td>\n",
       "      <td>...</td>\n",
       "      <td>...</td>\n",
       "      <td>...</td>\n",
       "      <td>...</td>\n",
       "      <td>...</td>\n",
       "    </tr>\n",
       "    <tr>\n",
       "      <th>295</th>\n",
       "      <td>Want To</td>\n",
       "      <td>Dua Lipa</td>\n",
       "      <td>2018</td>\n",
       "      <td>92</td>\n",
       "      <td>0.32</td>\n",
       "      <td>0.69</td>\n",
       "    </tr>\n",
       "    <tr>\n",
       "      <th>296</th>\n",
       "      <td>What I Need (feat. Kehlani)</td>\n",
       "      <td>Hayley Kiyoko</td>\n",
       "      <td>2018</td>\n",
       "      <td>104</td>\n",
       "      <td>0.41</td>\n",
       "      <td>0.79</td>\n",
       "    </tr>\n",
       "    <tr>\n",
       "      <th>297</th>\n",
       "      <td>Wait</td>\n",
       "      <td>Maroon 5</td>\n",
       "      <td>2018</td>\n",
       "      <td>126</td>\n",
       "      <td>0.45</td>\n",
       "      <td>0.60</td>\n",
       "    </tr>\n",
       "    <tr>\n",
       "      <th>298</th>\n",
       "      <td>What About Us</td>\n",
       "      <td>P!nk</td>\n",
       "      <td>2018</td>\n",
       "      <td>114</td>\n",
       "      <td>0.19</td>\n",
       "      <td>0.59</td>\n",
       "    </tr>\n",
       "    <tr>\n",
       "      <th>299</th>\n",
       "      <td>Kissing Strangers</td>\n",
       "      <td>DNCE</td>\n",
       "      <td>2018</td>\n",
       "      <td>120</td>\n",
       "      <td>0.86</td>\n",
       "      <td>0.74</td>\n",
       "    </tr>\n",
       "  </tbody>\n",
       "</table>\n",
       "<p>300 rows × 6 columns</p>\n",
       "</div>"
      ],
      "text/plain": [
       "                                   Track Name          Artist  Year  BPM  \\\n",
       "0                         Underneath the Tree  Kelly Clarkson  2013  160   \n",
       "1                                  Wake Me Up          Avicii  2013  124   \n",
       "2                            Story of My Life   One Direction  2013  121   \n",
       "3    Just Give Me a Reason (feat. Nate Ruess)            P!nk  2013   95   \n",
       "4                                Hall of Fame      The Script  2013   85   \n",
       "..                                        ...             ...   ...  ...   \n",
       "295                                   Want To        Dua Lipa  2018   92   \n",
       "296               What I Need (feat. Kehlani)   Hayley Kiyoko  2018  104   \n",
       "297                                      Wait        Maroon 5  2018  126   \n",
       "298                             What About Us            P!nk  2018  114   \n",
       "299                         Kissing Strangers            DNCE  2018  120   \n",
       "\n",
       "     Valence  Energy  \n",
       "0       0.69    0.81  \n",
       "1       0.64    0.78  \n",
       "2       0.29    0.66  \n",
       "3       0.44    0.55  \n",
       "4       0.63    0.87  \n",
       "..       ...     ...  \n",
       "295     0.32    0.69  \n",
       "296     0.41    0.79  \n",
       "297     0.45    0.60  \n",
       "298     0.19    0.59  \n",
       "299     0.86    0.74  \n",
       "\n",
       "[300 rows x 6 columns]"
      ]
     },
     "execution_count": 3,
     "metadata": {},
     "output_type": "execute_result"
    }
   ],
   "source": [
    "# filtering the data to only include certain columns (title, artist, bpm, valence, energy)\n",
    "top_50_by_year = top_50_by_year[['title', 'artist', 'year', 'bpm', 'val', 'nrgy']]\n",
    "top_50_by_year\n",
    "\n",
    "# renaming the title of each column to keep data consistent and tidy\n",
    "top_50_by_year = top_50_by_year.rename({'title' : 'Track Name', 'artist' : 'Artist', 'year': 'Year', 'bpm': 'BPM' , 'val': 'Valence' , 'nrgy': 'Energy'}, axis = 'columns')\n",
    "top_50_by_year\n",
    "\n",
    "top_50_by_year['Valence'] = top_50_by_year['Valence'].div(100)\n",
    "top_50_by_year['Energy'] = top_50_by_year['Energy'].div(100)\n",
    "\n",
    "top_50_by_year"
   ]
  },
  {
   "cell_type": "code",
   "execution_count": 4,
   "metadata": {},
   "outputs": [],
   "source": [
    "# Load a csv file of data\n",
    "top_50_2012 = pd.read_csv('spotifytoptracks2012.csv', encoding = \"ISO-8859-1\")\n",
    "top_50_2012 = top_50_2012[top_50_2012.year == 2012]\n",
    "top_50_2012 = top_50_2012.iloc[:-(top_50_2012.shape[0] - 50)]\n",
    "top_50_2012 = top_50_2012[['artist', 'song', 'year', 'energy', 'tempo', 'valence']]\n",
    "top_50_2012 = top_50_2012.rename({'artist': 'Artist', 'song': 'Track Name', 'year': 'Year', 'energy': 'Energy', 'tempo': 'BPM', 'valence': 'Valence'}, axis = 'columns')\n",
    "top_50_2012 = top_50_2012[['Track Name', 'Artist', 'Year', 'BPM', 'Valence', 'Energy']]\n",
    "\n",
    "# Load a csv file of data\n",
    "top_50_2019 = pd.read_csv('spotifytoptracks2019.csv', encoding = \"ISO-8859-1\")\n",
    "top_50_2019 = top_50_2019[['Artist.Name', 'Track.Name', 'Energy', 'Beats.Per.Minute', 'Valence.']]\n",
    "top_50_2019 = top_50_2019.rename({'Artist.Name': 'Artist', 'Track.Name': 'Track Name', 'Beats.Per.Minute': 'BPM', 'Valence.': 'Valence'}, axis = 'columns')\n",
    "top_50_2019 = top_50_2019[['Track Name', 'Artist', 'BPM', 'Valence', 'Energy']]\n",
    "top_50_2019['Valence'] = top_50_2019['Valence'].div(100)\n",
    "top_50_2019['Energy'] = top_50_2019['Energy'].div(100)\n",
    "top_50_2019.insert(2, 'Year', 2019)\n",
    "\n",
    "# Load a csv file of data\n",
    "top_50_2020 = pd.read_csv('spotifytoptracks2020.csv')\n",
    "\n",
    "# filtering the data to only include certain columns (artist, track_name, energy, tempo, valence)\n",
    "top_50_2020 = top_50_2020[['artist', 'track_name', 'energy', 'tempo', 'valence']]\n",
    "\n",
    "# renaming the title of each column to keep data consistent and tidy\n",
    "top_50_2020 = top_50_2020.rename({'artist': 'Artist', 'track_name': 'Track Name', 'energy': 'Energy', 'tempo': 'BPM', 'valence': 'Valence'}, axis = 'columns')\n",
    "\n",
    "# reordering the columns to match column order of other datasets - maintain consistency\n",
    "top_50_2020 = top_50_2020[['Track Name', 'Artist', 'BPM', 'Valence', 'Energy']]\n",
    "\n",
    "top_50_2020.insert(2, 'Year', 2020)\n",
    "\n",
    "# Load a csv file of data\n",
    "top_50_2021 = pd.read_csv('spotifytoptracks2021.csv')\n",
    "\n",
    "# renaming the title of each column to keep data consistent and tidy\n",
    "top_50_2021 = top_50_2021.rename({'artist_name': 'Artist', 'track_name': 'Track Name', 'energy': 'Energy', 'tempo': 'BPM', 'valence': 'Valence'}, axis = 'columns')\n",
    "\n",
    "# filtering the data to only include certain columns (artist, track name, energy, valence, BPM)\n",
    "top_50_2021 = top_50_2021[['Artist', 'Track Name', 'Energy', 'Valence', 'BPM']]\n",
    "\n",
    "# reordering the columns to match column order of other datasets - maintain consistency\n",
    "top_50_2021 = top_50_2021[['Track Name', 'Artist', 'BPM', 'Valence', 'Energy']]\n",
    "\n",
    "top_50_2021.insert(2, 'Year', 2021)\n",
    "\n",
    "# Load a csv file of data\n",
    "top_50_2022 = pd.read_excel('Spotify.xlsx', sheet_name = 'Top50USA')\n",
    "\n",
    "# renaming the title of each column to keep data consistent and tidy\n",
    "top_50_2022 = top_50_2022.rename({'artist': 'Artist', 'name': 'Track Name', 'energy': 'Energy', 'tempo': 'BPM', 'valence': 'Valence'}, axis = 'columns')\n",
    "\n",
    "# reordering the columns to match column order of other datasets - maintain consistency\n",
    "top_50_2022 = top_50_2022[['Track Name', 'Artist', 'BPM', 'Valence', 'Energy']]\n",
    "\n",
    "top_50_2022.insert(2, 'Year', 2022)"
   ]
  },
  {
   "cell_type": "code",
   "execution_count": 5,
   "metadata": {},
   "outputs": [
    {
     "data": {
      "text/html": [
       "<div>\n",
       "<style scoped>\n",
       "    .dataframe tbody tr th:only-of-type {\n",
       "        vertical-align: middle;\n",
       "    }\n",
       "\n",
       "    .dataframe tbody tr th {\n",
       "        vertical-align: top;\n",
       "    }\n",
       "\n",
       "    .dataframe thead th {\n",
       "        text-align: right;\n",
       "    }\n",
       "</style>\n",
       "<table border=\"1\" class=\"dataframe\">\n",
       "  <thead>\n",
       "    <tr style=\"text-align: right;\">\n",
       "      <th></th>\n",
       "      <th>Track Name</th>\n",
       "      <th>Artist</th>\n",
       "      <th>Year</th>\n",
       "      <th>BPM</th>\n",
       "      <th>Valence</th>\n",
       "      <th>Energy</th>\n",
       "    </tr>\n",
       "  </thead>\n",
       "  <tbody>\n",
       "    <tr>\n",
       "      <th>0</th>\n",
       "      <td>Crossroads - Radio Edit</td>\n",
       "      <td>Blazin' Squad</td>\n",
       "      <td>2012</td>\n",
       "      <td>144.188</td>\n",
       "      <td>0.502</td>\n",
       "      <td>0.746</td>\n",
       "    </tr>\n",
       "    <tr>\n",
       "      <th>1</th>\n",
       "      <td>Let Me Go</td>\n",
       "      <td>3 Doors Down</td>\n",
       "      <td>2012</td>\n",
       "      <td>92.004</td>\n",
       "      <td>0.491</td>\n",
       "      <td>0.863</td>\n",
       "    </tr>\n",
       "    <tr>\n",
       "      <th>2</th>\n",
       "      <td>Something Kinda Ooooh</td>\n",
       "      <td>Girls Aloud</td>\n",
       "      <td>2012</td>\n",
       "      <td>131.925</td>\n",
       "      <td>0.879</td>\n",
       "      <td>0.908</td>\n",
       "    </tr>\n",
       "    <tr>\n",
       "      <th>3</th>\n",
       "      <td>Let Me Think About It</td>\n",
       "      <td>Ida Corr</td>\n",
       "      <td>2012</td>\n",
       "      <td>129.026</td>\n",
       "      <td>0.715</td>\n",
       "      <td>0.754</td>\n",
       "    </tr>\n",
       "    <tr>\n",
       "      <th>4</th>\n",
       "      <td>California Gurls</td>\n",
       "      <td>Katy Perry</td>\n",
       "      <td>2012</td>\n",
       "      <td>125.014</td>\n",
       "      <td>0.425</td>\n",
       "      <td>0.754</td>\n",
       "    </tr>\n",
       "    <tr>\n",
       "      <th>...</th>\n",
       "      <td>...</td>\n",
       "      <td>...</td>\n",
       "      <td>...</td>\n",
       "      <td>...</td>\n",
       "      <td>...</td>\n",
       "      <td>...</td>\n",
       "    </tr>\n",
       "    <tr>\n",
       "      <th>545</th>\n",
       "      <td>BREAK MY SOUL</td>\n",
       "      <td>BeyoncÃ©</td>\n",
       "      <td>2022</td>\n",
       "      <td>114.942</td>\n",
       "      <td>0.864</td>\n",
       "      <td>0.887</td>\n",
       "    </tr>\n",
       "    <tr>\n",
       "      <th>546</th>\n",
       "      <td>DespuÃ©s de la Playa</td>\n",
       "      <td>Bad Bunny</td>\n",
       "      <td>2022</td>\n",
       "      <td>78.293</td>\n",
       "      <td>0.607</td>\n",
       "      <td>0.903</td>\n",
       "    </tr>\n",
       "    <tr>\n",
       "      <th>547</th>\n",
       "      <td>She Had Me At Heads Carolina</td>\n",
       "      <td>Cole Swindell</td>\n",
       "      <td>2022</td>\n",
       "      <td>134.944</td>\n",
       "      <td>0.722</td>\n",
       "      <td>0.912</td>\n",
       "    </tr>\n",
       "    <tr>\n",
       "      <th>548</th>\n",
       "      <td>Static</td>\n",
       "      <td>Steve Lacy</td>\n",
       "      <td>2022</td>\n",
       "      <td>79.001</td>\n",
       "      <td>0.215</td>\n",
       "      <td>0.305</td>\n",
       "    </tr>\n",
       "    <tr>\n",
       "      <th>549</th>\n",
       "      <td>Wasted On You</td>\n",
       "      <td>Morgan Wallen</td>\n",
       "      <td>2022</td>\n",
       "      <td>196.000</td>\n",
       "      <td>0.252</td>\n",
       "      <td>0.657</td>\n",
       "    </tr>\n",
       "  </tbody>\n",
       "</table>\n",
       "<p>550 rows × 6 columns</p>\n",
       "</div>"
      ],
      "text/plain": [
       "                       Track Name         Artist  Year      BPM  Valence  \\\n",
       "0         Crossroads - Radio Edit  Blazin' Squad  2012  144.188    0.502   \n",
       "1                       Let Me Go   3 Doors Down  2012   92.004    0.491   \n",
       "2           Something Kinda Ooooh    Girls Aloud  2012  131.925    0.879   \n",
       "3           Let Me Think About It       Ida Corr  2012  129.026    0.715   \n",
       "4                California Gurls     Katy Perry  2012  125.014    0.425   \n",
       "..                            ...            ...   ...      ...      ...   \n",
       "545                 BREAK MY SOUL       BeyoncÃ©  2022  114.942    0.864   \n",
       "546          DespuÃ©s de la Playa      Bad Bunny  2022   78.293    0.607   \n",
       "547  She Had Me At Heads Carolina  Cole Swindell  2022  134.944    0.722   \n",
       "548                        Static     Steve Lacy  2022   79.001    0.215   \n",
       "549                 Wasted On You  Morgan Wallen  2022  196.000    0.252   \n",
       "\n",
       "     Energy  \n",
       "0     0.746  \n",
       "1     0.863  \n",
       "2     0.908  \n",
       "3     0.754  \n",
       "4     0.754  \n",
       "..      ...  \n",
       "545   0.887  \n",
       "546   0.903  \n",
       "547   0.912  \n",
       "548   0.305  \n",
       "549   0.657  \n",
       "\n",
       "[550 rows x 6 columns]"
      ]
     },
     "execution_count": 5,
     "metadata": {},
     "output_type": "execute_result"
    }
   ],
   "source": [
    "top_50_by_year = pd.concat([top_50_2012, top_50_by_year, top_50_2019, top_50_2020, top_50_2021, top_50_2022])\n",
    "top_50_by_year = top_50_by_year.reset_index(drop=True)\n",
    "\n",
    "top_50_by_year"
   ]
  },
  {
   "cell_type": "markdown",
   "metadata": {},
   "source": [
    "__Steps Implemented Below:__\n",
    "\n",
    "> - Load CSV file of data containing consumer confidence reports from 2018-2022\n",
    "> - Filter this data to only include rows pertaining to the United States\n",
    "> - Further filter rows to only contain columns with info about location, time, and value\n",
    "> - Rename column titles to keep data tidy"
   ]
  },
  {
   "cell_type": "code",
   "execution_count": 6,
   "metadata": {},
   "outputs": [
    {
     "data": {
      "text/html": [
       "<div>\n",
       "<style scoped>\n",
       "    .dataframe tbody tr th:only-of-type {\n",
       "        vertical-align: middle;\n",
       "    }\n",
       "\n",
       "    .dataframe tbody tr th {\n",
       "        vertical-align: top;\n",
       "    }\n",
       "\n",
       "    .dataframe thead th {\n",
       "        text-align: right;\n",
       "    }\n",
       "</style>\n",
       "<table border=\"1\" class=\"dataframe\">\n",
       "  <thead>\n",
       "    <tr style=\"text-align: right;\">\n",
       "      <th></th>\n",
       "      <th>LOCATION</th>\n",
       "      <th>INDICATOR</th>\n",
       "      <th>SUBJECT</th>\n",
       "      <th>MEASURE</th>\n",
       "      <th>FREQUENCY</th>\n",
       "      <th>TIME</th>\n",
       "      <th>Value</th>\n",
       "      <th>Flag Codes</th>\n",
       "    </tr>\n",
       "  </thead>\n",
       "  <tbody>\n",
       "    <tr>\n",
       "      <th>0</th>\n",
       "      <td>OECD</td>\n",
       "      <td>CCI</td>\n",
       "      <td>AMPLITUD</td>\n",
       "      <td>LTRENDIDX</td>\n",
       "      <td>M</td>\n",
       "      <td>2011-11</td>\n",
       "      <td>98.19862</td>\n",
       "      <td>NaN</td>\n",
       "    </tr>\n",
       "    <tr>\n",
       "      <th>1</th>\n",
       "      <td>OECD</td>\n",
       "      <td>CCI</td>\n",
       "      <td>AMPLITUD</td>\n",
       "      <td>LTRENDIDX</td>\n",
       "      <td>M</td>\n",
       "      <td>2011-12</td>\n",
       "      <td>98.39256</td>\n",
       "      <td>NaN</td>\n",
       "    </tr>\n",
       "    <tr>\n",
       "      <th>2</th>\n",
       "      <td>OECD</td>\n",
       "      <td>CCI</td>\n",
       "      <td>AMPLITUD</td>\n",
       "      <td>LTRENDIDX</td>\n",
       "      <td>M</td>\n",
       "      <td>2012-01</td>\n",
       "      <td>98.60789</td>\n",
       "      <td>NaN</td>\n",
       "    </tr>\n",
       "    <tr>\n",
       "      <th>3</th>\n",
       "      <td>OECD</td>\n",
       "      <td>CCI</td>\n",
       "      <td>AMPLITUD</td>\n",
       "      <td>LTRENDIDX</td>\n",
       "      <td>M</td>\n",
       "      <td>2012-02</td>\n",
       "      <td>98.76552</td>\n",
       "      <td>NaN</td>\n",
       "    </tr>\n",
       "    <tr>\n",
       "      <th>4</th>\n",
       "      <td>OECD</td>\n",
       "      <td>CCI</td>\n",
       "      <td>AMPLITUD</td>\n",
       "      <td>LTRENDIDX</td>\n",
       "      <td>M</td>\n",
       "      <td>2012-03</td>\n",
       "      <td>98.84362</td>\n",
       "      <td>NaN</td>\n",
       "    </tr>\n",
       "    <tr>\n",
       "      <th>...</th>\n",
       "      <td>...</td>\n",
       "      <td>...</td>\n",
       "      <td>...</td>\n",
       "      <td>...</td>\n",
       "      <td>...</td>\n",
       "      <td>...</td>\n",
       "      <td>...</td>\n",
       "      <td>...</td>\n",
       "    </tr>\n",
       "    <tr>\n",
       "      <th>259</th>\n",
       "      <td>USA</td>\n",
       "      <td>CCI</td>\n",
       "      <td>AMPLITUD</td>\n",
       "      <td>LTRENDIDX</td>\n",
       "      <td>M</td>\n",
       "      <td>2022-06</td>\n",
       "      <td>96.02940</td>\n",
       "      <td>NaN</td>\n",
       "    </tr>\n",
       "    <tr>\n",
       "      <th>260</th>\n",
       "      <td>USA</td>\n",
       "      <td>CCI</td>\n",
       "      <td>AMPLITUD</td>\n",
       "      <td>LTRENDIDX</td>\n",
       "      <td>M</td>\n",
       "      <td>2022-07</td>\n",
       "      <td>95.99727</td>\n",
       "      <td>NaN</td>\n",
       "    </tr>\n",
       "    <tr>\n",
       "      <th>261</th>\n",
       "      <td>USA</td>\n",
       "      <td>CCI</td>\n",
       "      <td>AMPLITUD</td>\n",
       "      <td>LTRENDIDX</td>\n",
       "      <td>M</td>\n",
       "      <td>2022-08</td>\n",
       "      <td>96.27924</td>\n",
       "      <td>NaN</td>\n",
       "    </tr>\n",
       "    <tr>\n",
       "      <th>262</th>\n",
       "      <td>USA</td>\n",
       "      <td>CCI</td>\n",
       "      <td>AMPLITUD</td>\n",
       "      <td>LTRENDIDX</td>\n",
       "      <td>M</td>\n",
       "      <td>2022-09</td>\n",
       "      <td>96.55611</td>\n",
       "      <td>NaN</td>\n",
       "    </tr>\n",
       "    <tr>\n",
       "      <th>263</th>\n",
       "      <td>USA</td>\n",
       "      <td>CCI</td>\n",
       "      <td>AMPLITUD</td>\n",
       "      <td>LTRENDIDX</td>\n",
       "      <td>M</td>\n",
       "      <td>2022-10</td>\n",
       "      <td>96.79916</td>\n",
       "      <td>NaN</td>\n",
       "    </tr>\n",
       "  </tbody>\n",
       "</table>\n",
       "<p>264 rows × 8 columns</p>\n",
       "</div>"
      ],
      "text/plain": [
       "    LOCATION INDICATOR   SUBJECT    MEASURE FREQUENCY     TIME     Value  \\\n",
       "0       OECD       CCI  AMPLITUD  LTRENDIDX         M  2011-11  98.19862   \n",
       "1       OECD       CCI  AMPLITUD  LTRENDIDX         M  2011-12  98.39256   \n",
       "2       OECD       CCI  AMPLITUD  LTRENDIDX         M  2012-01  98.60789   \n",
       "3       OECD       CCI  AMPLITUD  LTRENDIDX         M  2012-02  98.76552   \n",
       "4       OECD       CCI  AMPLITUD  LTRENDIDX         M  2012-03  98.84362   \n",
       "..       ...       ...       ...        ...       ...      ...       ...   \n",
       "259      USA       CCI  AMPLITUD  LTRENDIDX         M  2022-06  96.02940   \n",
       "260      USA       CCI  AMPLITUD  LTRENDIDX         M  2022-07  95.99727   \n",
       "261      USA       CCI  AMPLITUD  LTRENDIDX         M  2022-08  96.27924   \n",
       "262      USA       CCI  AMPLITUD  LTRENDIDX         M  2022-09  96.55611   \n",
       "263      USA       CCI  AMPLITUD  LTRENDIDX         M  2022-10  96.79916   \n",
       "\n",
       "     Flag Codes  \n",
       "0           NaN  \n",
       "1           NaN  \n",
       "2           NaN  \n",
       "3           NaN  \n",
       "4           NaN  \n",
       "..          ...  \n",
       "259         NaN  \n",
       "260         NaN  \n",
       "261         NaN  \n",
       "262         NaN  \n",
       "263         NaN  \n",
       "\n",
       "[264 rows x 8 columns]"
      ]
     },
     "execution_count": 6,
     "metadata": {},
     "output_type": "execute_result"
    }
   ],
   "source": [
    "# Load a csv file of data\n",
    "consumer_report = pd.read_csv('cc_usa.csv')\n",
    "consumer_report"
   ]
  },
  {
   "cell_type": "code",
   "execution_count": 7,
   "metadata": {},
   "outputs": [
    {
     "data": {
      "text/html": [
       "<div>\n",
       "<style scoped>\n",
       "    .dataframe tbody tr th:only-of-type {\n",
       "        vertical-align: middle;\n",
       "    }\n",
       "\n",
       "    .dataframe tbody tr th {\n",
       "        vertical-align: top;\n",
       "    }\n",
       "\n",
       "    .dataframe thead th {\n",
       "        text-align: right;\n",
       "    }\n",
       "</style>\n",
       "<table border=\"1\" class=\"dataframe\">\n",
       "  <thead>\n",
       "    <tr style=\"text-align: right;\">\n",
       "      <th></th>\n",
       "      <th>LOCATION</th>\n",
       "      <th>INDICATOR</th>\n",
       "      <th>SUBJECT</th>\n",
       "      <th>MEASURE</th>\n",
       "      <th>FREQUENCY</th>\n",
       "      <th>TIME</th>\n",
       "      <th>Value</th>\n",
       "      <th>Flag Codes</th>\n",
       "    </tr>\n",
       "  </thead>\n",
       "  <tbody>\n",
       "    <tr>\n",
       "      <th>132</th>\n",
       "      <td>USA</td>\n",
       "      <td>CCI</td>\n",
       "      <td>AMPLITUD</td>\n",
       "      <td>LTRENDIDX</td>\n",
       "      <td>M</td>\n",
       "      <td>2011-11</td>\n",
       "      <td>97.37355</td>\n",
       "      <td>NaN</td>\n",
       "    </tr>\n",
       "    <tr>\n",
       "      <th>133</th>\n",
       "      <td>USA</td>\n",
       "      <td>CCI</td>\n",
       "      <td>AMPLITUD</td>\n",
       "      <td>LTRENDIDX</td>\n",
       "      <td>M</td>\n",
       "      <td>2011-12</td>\n",
       "      <td>97.93830</td>\n",
       "      <td>NaN</td>\n",
       "    </tr>\n",
       "    <tr>\n",
       "      <th>134</th>\n",
       "      <td>USA</td>\n",
       "      <td>CCI</td>\n",
       "      <td>AMPLITUD</td>\n",
       "      <td>LTRENDIDX</td>\n",
       "      <td>M</td>\n",
       "      <td>2012-01</td>\n",
       "      <td>98.41976</td>\n",
       "      <td>NaN</td>\n",
       "    </tr>\n",
       "    <tr>\n",
       "      <th>135</th>\n",
       "      <td>USA</td>\n",
       "      <td>CCI</td>\n",
       "      <td>AMPLITUD</td>\n",
       "      <td>LTRENDIDX</td>\n",
       "      <td>M</td>\n",
       "      <td>2012-02</td>\n",
       "      <td>98.68818</td>\n",
       "      <td>NaN</td>\n",
       "    </tr>\n",
       "    <tr>\n",
       "      <th>136</th>\n",
       "      <td>USA</td>\n",
       "      <td>CCI</td>\n",
       "      <td>AMPLITUD</td>\n",
       "      <td>LTRENDIDX</td>\n",
       "      <td>M</td>\n",
       "      <td>2012-03</td>\n",
       "      <td>98.81753</td>\n",
       "      <td>NaN</td>\n",
       "    </tr>\n",
       "    <tr>\n",
       "      <th>...</th>\n",
       "      <td>...</td>\n",
       "      <td>...</td>\n",
       "      <td>...</td>\n",
       "      <td>...</td>\n",
       "      <td>...</td>\n",
       "      <td>...</td>\n",
       "      <td>...</td>\n",
       "      <td>...</td>\n",
       "    </tr>\n",
       "    <tr>\n",
       "      <th>259</th>\n",
       "      <td>USA</td>\n",
       "      <td>CCI</td>\n",
       "      <td>AMPLITUD</td>\n",
       "      <td>LTRENDIDX</td>\n",
       "      <td>M</td>\n",
       "      <td>2022-06</td>\n",
       "      <td>96.02940</td>\n",
       "      <td>NaN</td>\n",
       "    </tr>\n",
       "    <tr>\n",
       "      <th>260</th>\n",
       "      <td>USA</td>\n",
       "      <td>CCI</td>\n",
       "      <td>AMPLITUD</td>\n",
       "      <td>LTRENDIDX</td>\n",
       "      <td>M</td>\n",
       "      <td>2022-07</td>\n",
       "      <td>95.99727</td>\n",
       "      <td>NaN</td>\n",
       "    </tr>\n",
       "    <tr>\n",
       "      <th>261</th>\n",
       "      <td>USA</td>\n",
       "      <td>CCI</td>\n",
       "      <td>AMPLITUD</td>\n",
       "      <td>LTRENDIDX</td>\n",
       "      <td>M</td>\n",
       "      <td>2022-08</td>\n",
       "      <td>96.27924</td>\n",
       "      <td>NaN</td>\n",
       "    </tr>\n",
       "    <tr>\n",
       "      <th>262</th>\n",
       "      <td>USA</td>\n",
       "      <td>CCI</td>\n",
       "      <td>AMPLITUD</td>\n",
       "      <td>LTRENDIDX</td>\n",
       "      <td>M</td>\n",
       "      <td>2022-09</td>\n",
       "      <td>96.55611</td>\n",
       "      <td>NaN</td>\n",
       "    </tr>\n",
       "    <tr>\n",
       "      <th>263</th>\n",
       "      <td>USA</td>\n",
       "      <td>CCI</td>\n",
       "      <td>AMPLITUD</td>\n",
       "      <td>LTRENDIDX</td>\n",
       "      <td>M</td>\n",
       "      <td>2022-10</td>\n",
       "      <td>96.79916</td>\n",
       "      <td>NaN</td>\n",
       "    </tr>\n",
       "  </tbody>\n",
       "</table>\n",
       "<p>132 rows × 8 columns</p>\n",
       "</div>"
      ],
      "text/plain": [
       "    LOCATION INDICATOR   SUBJECT    MEASURE FREQUENCY     TIME     Value  \\\n",
       "132      USA       CCI  AMPLITUD  LTRENDIDX         M  2011-11  97.37355   \n",
       "133      USA       CCI  AMPLITUD  LTRENDIDX         M  2011-12  97.93830   \n",
       "134      USA       CCI  AMPLITUD  LTRENDIDX         M  2012-01  98.41976   \n",
       "135      USA       CCI  AMPLITUD  LTRENDIDX         M  2012-02  98.68818   \n",
       "136      USA       CCI  AMPLITUD  LTRENDIDX         M  2012-03  98.81753   \n",
       "..       ...       ...       ...        ...       ...      ...       ...   \n",
       "259      USA       CCI  AMPLITUD  LTRENDIDX         M  2022-06  96.02940   \n",
       "260      USA       CCI  AMPLITUD  LTRENDIDX         M  2022-07  95.99727   \n",
       "261      USA       CCI  AMPLITUD  LTRENDIDX         M  2022-08  96.27924   \n",
       "262      USA       CCI  AMPLITUD  LTRENDIDX         M  2022-09  96.55611   \n",
       "263      USA       CCI  AMPLITUD  LTRENDIDX         M  2022-10  96.79916   \n",
       "\n",
       "     Flag Codes  \n",
       "132         NaN  \n",
       "133         NaN  \n",
       "134         NaN  \n",
       "135         NaN  \n",
       "136         NaN  \n",
       "..          ...  \n",
       "259         NaN  \n",
       "260         NaN  \n",
       "261         NaN  \n",
       "262         NaN  \n",
       "263         NaN  \n",
       "\n",
       "[132 rows x 8 columns]"
      ]
     },
     "execution_count": 7,
     "metadata": {},
     "output_type": "execute_result"
    }
   ],
   "source": [
    "# filter data to only include rows where the LOCATION is the 'USA'\n",
    "consumer_report = consumer_report[consumer_report.LOCATION == 'USA']\n",
    "consumer_report"
   ]
  },
  {
   "cell_type": "code",
   "execution_count": 8,
   "metadata": {},
   "outputs": [],
   "source": [
    "# filtering the data to only include certain columns (location, time, value)\n",
    "consumer_report = consumer_report[['LOCATION', 'TIME', 'Value']]"
   ]
  },
  {
   "cell_type": "code",
   "execution_count": 9,
   "metadata": {
    "scrolled": true
   },
   "outputs": [],
   "source": [
    "# renaming the title of each column to keep data consistent and tidy\n",
    "consumer_report = consumer_report.rename({'LOCATION': 'Location', 'TIME': 'Time'}, axis = 'columns')\n",
    "consumer_report = consumer_report.reset_index(drop = True)"
   ]
  },
  {
   "cell_type": "code",
   "execution_count": 10,
   "metadata": {
    "scrolled": false
   },
   "outputs": [
    {
     "data": {
      "text/plain": [
       "0     2011-11-01\n",
       "1     2011-12-01\n",
       "2     2012-01-01\n",
       "3     2012-02-01\n",
       "4     2012-03-01\n",
       "         ...    \n",
       "127   2022-06-01\n",
       "128   2022-07-01\n",
       "129   2022-08-01\n",
       "130   2022-09-01\n",
       "131   2022-10-01\n",
       "Name: Time, Length: 132, dtype: datetime64[ns]"
      ]
     },
     "execution_count": 10,
     "metadata": {},
     "output_type": "execute_result"
    }
   ],
   "source": [
    "# convert time values to datetime objects\n",
    "consumer_report['Time'] =  pd.to_datetime(consumer_report['Time'])\n",
    "consumer_report['Time']"
   ]
  },
  {
   "cell_type": "markdown",
   "metadata": {},
   "source": [
    "# Data Analysis & Results (EDA)"
   ]
  },
  {
   "cell_type": "markdown",
   "metadata": {},
   "source": [
    "Carry out EDA on your dataset(s); Describe in this section"
   ]
  },
  {
   "cell_type": "code",
   "execution_count": 11,
   "metadata": {},
   "outputs": [
    {
     "data": {
      "text/html": [
       "<div>\n",
       "<style scoped>\n",
       "    .dataframe tbody tr th:only-of-type {\n",
       "        vertical-align: middle;\n",
       "    }\n",
       "\n",
       "    .dataframe tbody tr th {\n",
       "        vertical-align: top;\n",
       "    }\n",
       "\n",
       "    .dataframe thead th {\n",
       "        text-align: right;\n",
       "    }\n",
       "</style>\n",
       "<table border=\"1\" class=\"dataframe\">\n",
       "  <thead>\n",
       "    <tr style=\"text-align: right;\">\n",
       "      <th></th>\n",
       "      <th>Avg_BPM</th>\n",
       "      <th>Avg_Val</th>\n",
       "      <th>Avg_Energy</th>\n",
       "    </tr>\n",
       "  </thead>\n",
       "  <tbody>\n",
       "    <tr>\n",
       "      <th>2012</th>\n",
       "      <td>124.47260</td>\n",
       "      <td>0.576286</td>\n",
       "      <td>0.77752</td>\n",
       "    </tr>\n",
       "    <tr>\n",
       "      <th>2013</th>\n",
       "      <td>121.56000</td>\n",
       "      <td>0.535600</td>\n",
       "      <td>0.73260</td>\n",
       "    </tr>\n",
       "    <tr>\n",
       "      <th>2014</th>\n",
       "      <td>125.50000</td>\n",
       "      <td>0.527200</td>\n",
       "      <td>0.69440</td>\n",
       "    </tr>\n",
       "    <tr>\n",
       "      <th>2015</th>\n",
       "      <td>121.86000</td>\n",
       "      <td>0.522400</td>\n",
       "      <td>0.68840</td>\n",
       "    </tr>\n",
       "    <tr>\n",
       "      <th>2016</th>\n",
       "      <td>115.94000</td>\n",
       "      <td>0.451600</td>\n",
       "      <td>0.67880</td>\n",
       "    </tr>\n",
       "    <tr>\n",
       "      <th>2017</th>\n",
       "      <td>116.96000</td>\n",
       "      <td>0.532200</td>\n",
       "      <td>0.68640</td>\n",
       "    </tr>\n",
       "    <tr>\n",
       "      <th>2018</th>\n",
       "      <td>115.50000</td>\n",
       "      <td>0.488600</td>\n",
       "      <td>0.65960</td>\n",
       "    </tr>\n",
       "    <tr>\n",
       "      <th>2019</th>\n",
       "      <td>120.06000</td>\n",
       "      <td>0.546000</td>\n",
       "      <td>0.64060</td>\n",
       "    </tr>\n",
       "    <tr>\n",
       "      <th>2020</th>\n",
       "      <td>119.69046</td>\n",
       "      <td>0.555710</td>\n",
       "      <td>0.60930</td>\n",
       "    </tr>\n",
       "    <tr>\n",
       "      <th>2021</th>\n",
       "      <td>121.08386</td>\n",
       "      <td>0.528884</td>\n",
       "      <td>0.64636</td>\n",
       "    </tr>\n",
       "    <tr>\n",
       "      <th>2022</th>\n",
       "      <td>127.00706</td>\n",
       "      <td>0.463060</td>\n",
       "      <td>0.66598</td>\n",
       "    </tr>\n",
       "  </tbody>\n",
       "</table>\n",
       "</div>"
      ],
      "text/plain": [
       "        Avg_BPM   Avg_Val  Avg_Energy\n",
       "2012  124.47260  0.576286     0.77752\n",
       "2013  121.56000  0.535600     0.73260\n",
       "2014  125.50000  0.527200     0.69440\n",
       "2015  121.86000  0.522400     0.68840\n",
       "2016  115.94000  0.451600     0.67880\n",
       "2017  116.96000  0.532200     0.68640\n",
       "2018  115.50000  0.488600     0.65960\n",
       "2019  120.06000  0.546000     0.64060\n",
       "2020  119.69046  0.555710     0.60930\n",
       "2021  121.08386  0.528884     0.64636\n",
       "2022  127.00706  0.463060     0.66598"
      ]
     },
     "execution_count": 11,
     "metadata": {},
     "output_type": "execute_result"
    }
   ],
   "source": [
    "top_50_avgs = pd.DataFrame()\n",
    "\n",
    "for i in range(11):\n",
    "    temp = top_50_by_year[top_50_by_year['Year'] == (2012 + i)]\n",
    "    avg_bpm = temp['BPM'].mean()\n",
    "    avg_val = temp['Valence'].mean()\n",
    "    avg_energy = temp['Energy'].mean()\n",
    "    \n",
    "    data = [[avg_bpm, avg_val, avg_energy]]\n",
    "  \n",
    "    df = pd.DataFrame(data, columns=['Avg_BPM', 'Avg_Val', 'Avg_Energy'])\n",
    "    top_50_avgs = pd.concat([top_50_avgs, df])\n",
    "    \n",
    "top_50_avgs.index = ['2012', '2013', '2014', '2015', '2016', '2017', '2018', '2019', '2020', '2021', '2022']\n",
    "top_50_avgs"
   ]
  },
  {
   "cell_type": "code",
   "execution_count": 25,
   "metadata": {},
   "outputs": [
    {
     "data": {
      "text/plain": [
       "<AxesSubplot:xlabel='Year', ylabel='Avg_Energy'>"
      ]
     },
     "execution_count": 25,
     "metadata": {},
     "output_type": "execute_result"
    },
    {
     "data": {
      "image/png": "[encoded data removed]",
      "text/plain": [
       "<Figure size 1440x576 with 3 Axes>"
      ]
     },
     "metadata": {
      "needs_background": "light"
     },
     "output_type": "display_data"
    }
   ],
   "source": [
    "#Mention 2016 and 2022 Drops in Valence\n",
    "#Valence describes the musical positiveness conveyed by a track\n",
    "\n",
    "top_50_avgs['Avg_BPM_L10'] = np.log10(top_50_avgs.Avg_BPM + 0.1)\n",
    "top_50_avgs['Avg_Val_L10'] = np.log10(top_50_avgs.Avg_Val + 0.1)\n",
    "top_50_avgs['Avg_Energy_L10'] = np.log10(top_50_avgs.Avg_Energy + 0.1)\n",
    "\n",
    "f1, (ax1, ax2, ax3) = plt.subplots(ncols=3, figsize = (20, 8))\n",
    "\n",
    "ax1.set_ylim(60, 180)\n",
    "\n",
    "#Restrict bounds of Valence and Energy to [0, 1]\n",
    "ax2.set_ylim(0, 1)\n",
    "ax3.set_ylim(0, 1)\n",
    "\n",
    "ax1.set_xlabel(\"Year\")\n",
    "ax2.set_xlabel(\"Year\")\n",
    "ax3.set_xlabel(\"Year\")\n",
    "\n",
    "sns.lineplot(data=top_50_avgs, x=top_50_avgs.index, y=\"Avg_BPM\", ax=ax1)\n",
    "sns.lineplot(data=top_50_avgs, x=top_50_avgs.index, y=\"Avg_Val\", ax=ax2)\n",
    "sns.lineplot(data=top_50_avgs, x=top_50_avgs.index, y=\"Avg_Energy\", ax=ax3)"
   ]
  },
  {
   "cell_type": "markdown",
   "metadata": {},
   "source": [
    "__Figure 1.__ The relative relationship between the average BPM, valence, and energy of the top 50 songs from the years 2012-2022 respectively. \n"
   ]
  },
  {
   "cell_type": "markdown",
   "metadata": {},
   "source": [
    "The image above visualizes each parameter we defined in our research question for liveliness which was BPM, valence, and energy, plotted against the years 2012-2022 in which we focus on in our research question. \n",
    "\n",
    "The graph on the left plots the average BPM of the top 50 songs against year from 2010-2022. The BPM is defined as the beats per minute of the song which provides valuable information on the relative liveliness. Based on the graph, there are trends in the data in the years 2016 and 2018 as the average BPM significantly dips in 2016 and then in 2018 and then proceeds to gradually trend upwards after 2018. \n",
    "\n",
    "The graph in the middle plots the average valence of the top 50 songs against year from 2010-2022. The valence is the musical positivity of a song which is another musical element in which we are measuring the relative liveliness of songs. Based on the graph, there is a noticeable downward trend in 2016, 2018, and then a gradual decline in 2020. \n",
    "\n",
    "The graph on the left plots the average energy of the top 50 songs against year from 2010-2022. The energy of a song measures the intensity and activity of a song which is valuable information when analyzing and assessing the liveliness of songs. Based on the graph, there are also changes in the average energy in the years 2016 and 2020 which correlate with the trends for the average valence as shown in Figure 1b.\n",
    "\n",
    "The reasoning behind generating these three line plots is to analyze the trends in the average BPM, valence, and energy, which we define as our elements of study for liveliness, and how these trends correlate with the particular years from 2010-2022 which we are focusing on. By generating these plots, we are able to see in which years there are significant changes in the average liveliness of the top 50 songs. "
   ]
  },
  {
   "cell_type": "code",
   "execution_count": 13,
   "metadata": {},
   "outputs": [
    {
     "data": {
      "text/plain": [
       "<matplotlib.legend.Legend at 0x7fd79ad82970>"
      ]
     },
     "execution_count": 13,
     "metadata": {},
     "output_type": "execute_result"
    },
    {
     "data": {
      "image/png": "[encoded data removed]",
      "text/plain": [
       "<Figure size 432x288 with 1 Axes>"
      ]
     },
     "metadata": {
      "needs_background": "light"
     },
     "output_type": "display_data"
    }
   ],
   "source": [
    "fig, ax = plt.subplots()\n",
    "ax = sns.lineplot(x=top_50_avgs.index, y='Avg_Val', data=top_50_avgs)\n",
    "ax1 = sns.lineplot(x=top_50_avgs.index, y='Avg_Energy', data=top_50_avgs)\n",
    "\n",
    "ax.set_ylim(0.3, 1)\n",
    "ax.set_ylabel(\"Relative Value\")\n",
    "ax.set_xlabel(\"Year\")\n",
    "\n",
    "plt.legend(title='Liveliness Measure', loc='upper right', labels=['Valence', 'Energy'])"
   ]
  },
  {
   "cell_type": "markdown",
   "metadata": {},
   "source": [
    "__Figure 1b.__ The relative relationship between average valence and energy of the top 50 songs from 2012-2022."
   ]
  },
  {
   "cell_type": "markdown",
   "metadata": {},
   "source": [
    "The reasoning behind generating Figure 1b is to compare the average valence and energy with respect to our specified years of focus from 2010-2022. This comparison was deemed a necessary one to include because of the fact that the present analysis measures the liveliness of a song as a function of both valence and energy, and a comparison between the trends of both categories would demonstrate whether or not the consideration of both valence and energy could be accurately used to determine a uniform measure of liveliness or whether the measures were too different to be paralleled. \n",
    "\n",
    "As the average valence and energy are both scaled between 0 and 1, we compared the trends in these averages. Based on the graph, we see that initially, the valence and energy follow the same downward trend from 2012- 2015 until the valence significantly dips in 2016. Similarly, in 2020, the valence and energy trends mirror one another until 2022. The reason we see these trends is because in the years 2016 and 2020, the economy experienced shifts from the election and COVID-19. These periods in which the economy experiences shifts could be considered for why the valence and the energy also reflected these changes, and therefore the liveliness of the top 50 songs. Focusing on the years 2020-2022, a reason for the average valence and energy to trend in opposite directions is that during this time, there could have been more releases of high energy songs while still maintaining a more negatively low valence sound reflecting the economic downtrends of the time.\n",
    "\n",
    "However, it is also important to consider external variables which could also affect the average BPM, valence, and energy and not just the shifts in the economy, but also the rise of social and political events. The rise of social media platforms like TikTok could also contribute to the rise and popularity of certain songs which are trending based on the overall well being of the country. \n"
   ]
  },
  {
   "cell_type": "code",
   "execution_count": 14,
   "metadata": {},
   "outputs": [
    {
     "data": {
      "text/html": [
       "<div>\n",
       "<style scoped>\n",
       "    .dataframe tbody tr th:only-of-type {\n",
       "        vertical-align: middle;\n",
       "    }\n",
       "\n",
       "    .dataframe tbody tr th {\n",
       "        vertical-align: top;\n",
       "    }\n",
       "\n",
       "    .dataframe thead th {\n",
       "        text-align: right;\n",
       "    }\n",
       "</style>\n",
       "<table border=\"1\" class=\"dataframe\">\n",
       "  <thead>\n",
       "    <tr style=\"text-align: right;\">\n",
       "      <th></th>\n",
       "      <th>Avg_CC</th>\n",
       "      <th>Avg_CC_Trans</th>\n",
       "    </tr>\n",
       "  </thead>\n",
       "  <tbody>\n",
       "    <tr>\n",
       "      <th>2012</th>\n",
       "      <td>98.798898</td>\n",
       "      <td>-0.037767</td>\n",
       "    </tr>\n",
       "    <tr>\n",
       "      <th>2013</th>\n",
       "      <td>99.137754</td>\n",
       "      <td>0.010244</td>\n",
       "    </tr>\n",
       "    <tr>\n",
       "      <th>2014</th>\n",
       "      <td>99.747946</td>\n",
       "      <td>0.085229</td>\n",
       "    </tr>\n",
       "    <tr>\n",
       "      <th>2015</th>\n",
       "      <td>100.802283</td>\n",
       "      <td>0.190398</td>\n",
       "    </tr>\n",
       "    <tr>\n",
       "      <th>2016</th>\n",
       "      <td>100.682750</td>\n",
       "      <td>0.179678</td>\n",
       "    </tr>\n",
       "    <tr>\n",
       "      <th>2017</th>\n",
       "      <td>101.286333</td>\n",
       "      <td>0.231293</td>\n",
       "    </tr>\n",
       "    <tr>\n",
       "      <th>2018</th>\n",
       "      <td>101.456867</td>\n",
       "      <td>0.244830</td>\n",
       "    </tr>\n",
       "    <tr>\n",
       "      <th>2019</th>\n",
       "      <td>101.229983</td>\n",
       "      <td>0.226726</td>\n",
       "    </tr>\n",
       "    <tr>\n",
       "      <th>2020</th>\n",
       "      <td>99.395496</td>\n",
       "      <td>0.043509</td>\n",
       "    </tr>\n",
       "    <tr>\n",
       "      <th>2021</th>\n",
       "      <td>98.949236</td>\n",
       "      <td>-0.015809</td>\n",
       "    </tr>\n",
       "    <tr>\n",
       "      <th>2022</th>\n",
       "      <td>96.687192</td>\n",
       "      <td>-0.603919</td>\n",
       "    </tr>\n",
       "  </tbody>\n",
       "</table>\n",
       "</div>"
      ],
      "text/plain": [
       "          Avg_CC  Avg_CC_Trans\n",
       "2012   98.798898     -0.037767\n",
       "2013   99.137754      0.010244\n",
       "2014   99.747946      0.085229\n",
       "2015  100.802283      0.190398\n",
       "2016  100.682750      0.179678\n",
       "2017  101.286333      0.231293\n",
       "2018  101.456867      0.244830\n",
       "2019  101.229983      0.226726\n",
       "2020   99.395496      0.043509\n",
       "2021   98.949236     -0.015809\n",
       "2022   96.687192     -0.603919"
      ]
     },
     "execution_count": 14,
     "metadata": {},
     "output_type": "execute_result"
    }
   ],
   "source": [
    "avg_ccs = pd.DataFrame()\n",
    "\n",
    "#.dt.year\n",
    "for i in range(11):\n",
    "    temp = consumer_report[consumer_report['Time'].dt.year == (2012 + i)]\n",
    "    \n",
    "    avg_cc = temp['Value'].mean()\n",
    "    data = [[avg_cc]]\n",
    "    \n",
    "    df = pd.DataFrame(data, columns=['Avg_CC'])\n",
    "    avg_ccs = pd.concat([avg_ccs, df])\n",
    "    \n",
    "avg_ccs.index = ['2012', '2013', '2014', '2015', '2016', '2017', '2018', '2019', '2020', '2021', '2022']\n",
    "avg_ccs['Avg_CC_Trans'] = np.log10((avg_ccs.Avg_CC - 96) + 0.1) - 0.5\n",
    "avg_ccs"
   ]
  },
  {
   "cell_type": "code",
   "execution_count": 15,
   "metadata": {},
   "outputs": [
    {
     "data": {
      "text/plain": [
       "Text(0.5, 0, 'Year')"
      ]
     },
     "execution_count": 15,
     "metadata": {},
     "output_type": "execute_result"
    },
    {
     "data": {
      "image/png": "[encoded data removed]",
      "text/plain": [
       "<Figure size 432x288 with 1 Axes>"
      ]
     },
     "metadata": {
      "needs_background": "light"
     },
     "output_type": "display_data"
    }
   ],
   "source": [
    "ax = sns.lineplot(x=avg_ccs.index, y='Avg_CC', data=avg_ccs)\n",
    "ax.set_xlabel(\"Year\")"
   ]
  },
  {
   "cell_type": "markdown",
   "metadata": {},
   "source": [
    "__Figure 1c.__ The average US consumer confidence from 2012-2022."
   ]
  },
  {
   "cell_type": "markdown",
   "metadata": {},
   "source": [
    "The visualization in Figure 1c plots the average consumer confidence from the years 2012-2022. As seen in the graph,  there is a gradual increase in the average consumer confidence until the year 2016 where it slightly decreases and then again in 2019-2020 where the overall consumer confidence significantly declines. These years in which the consumer confidence significantly declines, 2016 and 2020, reflect the economic shifts during the election of 2016 and the start of COVID-19 in 2019-2020."
   ]
  },
  {
   "cell_type": "code",
   "execution_count": 23,
   "metadata": {},
   "outputs": [
    {
     "data": {
      "image/png": "[encoded data removed]",
      "text/plain": [
       "<Figure size 432x432 with 1 Axes>"
      ]
     },
     "metadata": {
      "needs_background": "light"
     },
     "output_type": "display_data"
    },
    {
     "data": {
      "image/png": "[encoded data removed]",
      "text/plain": [
       "<Figure size 432x432 with 1 Axes>"
      ]
     },
     "metadata": {
      "needs_background": "light"
     },
     "output_type": "display_data"
    },
    {
     "data": {
      "image/png": "[encoded data removed]",
      "text/plain": [
       "<Figure size 432x432 with 1 Axes>"
      ]
     },
     "metadata": {
      "needs_background": "light"
     },
     "output_type": "display_data"
    }
   ],
   "source": [
    "#Scatter (for determining relationships between 1 or more liveliness values and cc)\n",
    "\n",
    "avg_stats = pd.concat([top_50_avgs, avg_ccs]);\n",
    "avg_stats = top_50_avgs;\n",
    "avg_stats[\"Avg_CC\"] = avg_ccs['Avg_CC'];\n",
    "#avg_stats[\"Avg_CC_Trans\"] = avg_ccs['Avg_CC_Trans']\n",
    "\n",
    "ax1 = sns.lmplot(x='Avg_BPM_L10', y='Avg_CC', data=avg_stats, height=6);\n",
    "ax1.set_xticklabels(rotation=30);\n",
    "\n",
    "ax2 = sns.lmplot(x='Avg_Val_L10', y='Avg_CC', data=avg_stats, height=6);\n",
    "ax2.set_xticklabels(rotation=30);\n",
    "\n",
    "ax3 = sns.lmplot(x='Avg_Energy_L10', y='Avg_CC', data=avg_stats, height=6);\n",
    "ax3.set_xticklabels(rotation=30);"
   ]
  },
  {
   "cell_type": "markdown",
   "metadata": {},
   "source": [
    "__Figure 2.__ Subvariable Regression Models\n",
    "\n",
    "The collection of subplots displayed above demonstrate the apparent correlations between consumer confidence ratings in the United States from 2012 to 2022 and each measure of liveliness outlined in the present research question. The motivation behind the inclusion of these plots was to highlight any relationships that existed between the three perceived measures of musical liveliness and consumer confidence over the same time periods, results that could then be extended to draw conclusions about the positive or negative economic implications of fluctuating liveliness metrics. Inherently, it was anticipated that a scatter-based regression model would provide effective, meaningful results for the desired objective because of their visual representations of relevant analytical values such as variance and regression coefficients, making it a simple task to identify any existing relationships between the variables of interest. Linear regression was deemed a feasible mode of comparison due to the fact that the numerical data represented by each variable demonstrated relatively linear relationships when plotted separately (see fig. 1), lacked multicolinearity and autocorrelation by virtue of their apparent independence, and demonstrated homoscedasticity on account of the relatively miniscule variance between the discrete data points in their relative scales.\n",
    "\n",
    "The results yielded by the regression model analyzing the temporal relationships between average consumer confidence and average BPM demonstrated the existence of a strong, negative correlation between the two metrics. In other words, it was determined that increases in the average tempo of the most popular Spotify songs over time appeared to be associated with relatively consistent and magnitudinous decreases in consumer confidence over the same time period. \n",
    "\n",
    "The results yielded by the regression model analyzing the temporal relationships between average consumer confidence and average valence demonstrated the existence of a very weak, positive correlation between the two metrics. In other words, it was determined that increases in the average valence of the most popular Spotify songs over time appeared to be associated with relatively consistent and extremely slight increases in consumer confidence over the same time period. This essentially means that we cannot conclude that changes in consumer confidence could be correlated with changes in valence, meaning that the aspect of valence in our definition of liveliness is not strong enough to make an overall connection to that of consumer confidence.\n",
    "\n",
    "The results yielded by the regression model analyzing the temporal relationships between average consumer confidence and average BPM demonstrated the existence of a very weak, negative correlation between the two metrics. In other words, it was determined that increases in the average energy of the most popular Spotify songs over time appeared to be associated with relatively consistent and extremely slight decreases in consumer confidence over the same time period. Like stated above for valence, this all means that we cannot conclude that changes in consumer confidence could be correlated with changes in energy.\n",
    "\n",
    "Due to the apparent results that we found in our data for valence and energy and our pre-defined components for liveliness, this set of regression models infers that the only aspect of liveliness that could have been affected by a change in consumer confidence was BPM. Since BPM is not the only quality of a song that determines liveliness, we simply cannot say that overall liveliness in trending music has anything to do with the consumer confidence of our given time period, at least going off of the results from these few graphs. We can potentially investigate the reasonings behind such a negative relationship between that of BPM and consumer confidence and come to a correlation between these two variables. However, this would be moving outside of the scope of this particular project since, once again, BPM is not the only aspect of a song that deems it lively or not."
   ]
  },
  {
   "cell_type": "code",
   "execution_count": 27,
   "metadata": {},
   "outputs": [
    {
     "name": "stderr",
     "output_type": "stream",
     "text": [
      "/tmp/ipykernel_349/1749744877.py:6: UserWarning: FixedFormatter should only be used together with FixedLocator\n",
      "  scatter[6,6].set_yticklabels(['90', '92', '94', '96', '98', '100', '102', '104'])\n"
     ]
    },
    {
     "data": {
      "text/plain": [
       "[Text(0, 0.0, '90'), Text(0, 2.0, '92'), Text(0, 4.0, '94')]"
      ]
     },
     "execution_count": 27,
     "metadata": {},
     "output_type": "execute_result"
    },
    {
     "data": {
      "image/png": "[encoded data removed]",
      "text/plain": [
       "<Figure size 1080x720 with 49 Axes>"
      ]
     },
     "metadata": {
      "needs_background": "light"
     },
     "output_type": "display_data"
    }
   ],
   "source": [
    "#Display Average Statistics Scatter Matrix\n",
    "\n",
    "scatter = pd.plotting.scatter_matrix(avg_stats, figsize=(15, 10))\n",
    "\n",
    "#Adjusting for small scale of consumer confidence visualization\n",
    "scatter[6,6].set_yticklabels(['90', '92', '94', '96', '98', '100', '102', '104'])"
   ]
  },
  {
   "cell_type": "markdown",
   "metadata": {},
   "source": [
    "__Figure 2a.__ Supplementary Subvariable Scatter Matrix\n",
    "\n",
    "The scatter matrix displayed above contains scatter plots identical to the ones displayed in Figure 2, and also contains diagonal entries that reflect the relative distributions of each of the variables of interest and their logarithmically-transformed counterparts. The results of these latter plots serve to substantiate the decision to utilize linear regression visualizations as a form of analysis by demonstrating the relatively uniform variation of each variable and the differences between both these variances and distributions with respect to each other variable. These distribution qualities are made more evident in the depictions of the logarithmic distributions, which better highlight the pre-existing relatively-normal distributions within each of the original variable data."
   ]
  },
  {
   "cell_type": "code",
   "execution_count": 19,
   "metadata": {},
   "outputs": [
    {
     "name": "stderr",
     "output_type": "stream",
     "text": [
      "/opt/conda/lib/python3.9/site-packages/seaborn/_decorators.py:36: FutureWarning: Pass the following variables as keyword args: x, y. From version 0.12, the only valid positional argument will be `data`, and passing other arguments without an explicit keyword will result in an error or misinterpretation.\n",
      "  warnings.warn(\n",
      "/opt/conda/lib/python3.9/site-packages/seaborn/_decorators.py:36: FutureWarning: Pass the following variables as keyword args: x, y. From version 0.12, the only valid positional argument will be `data`, and passing other arguments without an explicit keyword will result in an error or misinterpretation.\n",
      "  warnings.warn(\n",
      "/opt/conda/lib/python3.9/site-packages/seaborn/_decorators.py:36: FutureWarning: Pass the following variables as keyword args: x, y. From version 0.12, the only valid positional argument will be `data`, and passing other arguments without an explicit keyword will result in an error or misinterpretation.\n",
      "  warnings.warn(\n"
     ]
    },
    {
     "data": {
      "text/plain": [
       "<seaborn.axisgrid.JointGrid at 0x7fd38c40c760>"
      ]
     },
     "execution_count": 19,
     "metadata": {},
     "output_type": "execute_result"
    },
    {
     "data": {
      "image/png": "[encoded data removed]",
      "text/plain": [
       "<Figure size 432x432 with 3 Axes>"
      ]
     },
     "metadata": {
      "needs_background": "light"
     },
     "output_type": "display_data"
    },
    {
     "data": {
      "image/png": "[encoded data removed]",
      "text/plain": [
       "<Figure size 432x432 with 3 Axes>"
      ]
     },
     "metadata": {
      "needs_background": "light"
     },
     "output_type": "display_data"
    },
    {
     "data": {
      "image/png": "[encoded data removed]",
      "text/plain": [
       "<Figure size 432x432 with 3 Axes>"
      ]
     },
     "metadata": {
      "needs_background": "light"
     },
     "output_type": "display_data"
    }
   ],
   "source": [
    "#Jointplots\n",
    "\n",
    "sns.jointplot(\"Avg_BPM\", \"Avg_CC\", data=avg_stats)\n",
    "sns.jointplot(\"Avg_Val\", \"Avg_CC\", data=avg_stats)\n",
    "sns.jointplot(\"Avg_Energy\", \"Avg_CC\", data=avg_stats)"
   ]
  },
  {
   "cell_type": "markdown",
   "metadata": {},
   "source": [
    "__Figure 3.__ Joint plots to look further into the bivariate and univariate relationships within our data."
   ]
  },
  {
   "cell_type": "markdown",
   "metadata": {},
   "source": [
    "The purpose behind our creation of the joint plot was to gain an extra view into the relationships between our data and their own individual distributions. Even though Figure 2 showed that our variables of energy and valence had little to no visible relationship with consumer confidence, we wanted to take one more closer look at our data and try to find any additional patterns that could potentially be used to solve our research question, especially since we previously discovered that BPM had a severely negative relationship with CC. \n",
    "\n",
    "As seen in the top figure, we compared the average BPM of the songs in our dataset to the average consumer confidence our study is based off of. This method allowed us to see that there is a clear negative correlation between the two (which was further supported by our results from Figure 2). Because this is a joint plot and not a density plot as used before, we were able to look even further into this potential relationship and analyze the univariate distributions for each of the two variables. We noticed that the distribution for average BPM was much more spread out and even than that of average consumer confidence. We also saw that each bar in average BPM was greater than the opposing bar representing consumer confidence, essentially confirming that without considering unknown third variables, it seems as if these two categories are negatively correlated. Going back to the shape of the individual distributions, the univariate data showcases that average BPM does not have drastic and uneven changes like average consumer confidence does. While the BPM does increase and decrease in value as you move down the bar graph, average consumer confidence is super high in one bar, super low in another, moderate in another, and completely empty towards the tail end. This makes us wonder whether or not the decrease seen in BPM does have something to do with a decrease in consumer confidence, or if the slight changes in BPM are completely independent from the drastic changes in consumer confidence that is shown through its individual distribution.\n",
    "\n",
    "We followed this same analyzation process for the remaining two joint plot graphs we had generated, but were simply unable to discover any additional patterns that could be connected to our definition of liveliness we created before seeing this data. The bivariate scatter plots between CC, valence, and energy essentially confirmed that there is little to no relationship to be found between these aspects of liveliness we defined previously. However, there were some noticeable discrepancies when looking at the univariate data for each of the variables in question. While BPM maintained a generally high value in each of the bars, average valence maintained a much lower value besides in the second to last bin, which can potentially be attached to the general public enjoying songs that maintain a high BPM and low valence. In addition, valence’s highest value came at the lowest point for average consumer confidence, which is a very interesting univariate relationship, but still not enough to definitely say that liveliness and consumer confidence have a correlational relationship. Looking at energy, we were able to see that the distribution generally increased until the midpoint where it took a deep dive, following the exact pattern that the individual CC data shows. While the bivariate graph shows no relationship between energy and CC, could this trend in the univariate data be saying something else? Once again, we can not definitively say that it does, but it was still interesting to see that even though our bivariate data showed a lack of relationship between CC and energy, some aspects of the univariate data line up with one another."
   ]
  }
 ],
 "metadata": {
  "kernelspec": {
   "display_name": "Python 3 (ipykernel)",
   "language": "python",
   "name": "python3"
  },
  "language_info": {
   "codemirror_mode": {
    "name": "ipython",
    "version": 3
   },
   "file_extension": ".py",
   "mimetype": "text/x-python",
   "name": "python",
   "nbconvert_exporter": "python",
   "pygments_lexer": "ipython3",
   "version": "3.9.5"
  }
 },
 "nbformat": 4,
 "nbformat_minor": 2
}
